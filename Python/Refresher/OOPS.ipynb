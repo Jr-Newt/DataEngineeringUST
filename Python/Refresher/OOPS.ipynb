{
 "cells": [
  {
   "cell_type": "code",
   "execution_count": 3,
   "metadata": {},
   "outputs": [
    {
     "name": "stdout",
     "output_type": "stream",
     "text": [
      "Name=Issac,Age=23,email=issac@gmail.com,dob=11/12/1222\n"
     ]
    }
   ],
   "source": [
    "import datetime\n",
    "\n",
    "#Declaring a class\n",
    "class Person:\n",
    "    def __init__(self, *args):\n",
    "        if len(args)>= 4:\n",
    "            self.name = args[0]\n",
    "            self.age = args[1]\n",
    "            self.email = args[2]\n",
    "            self.dob = args[3]\n",
    "        else:\n",
    "            raise ValueError(\"Not enough arguments passes. Expected 4 arguments.\")\n",
    "\n",
    "    def display(self):\n",
    "        print(f\"Name={self.name},Age={self.age},email={self.email},dob={self.dob}\")\n",
    "\n",
    "#declaring an Object\n",
    "p1=Person('Issac','23','issac@gmail.com','11/12/1222')\n",
    "p1.display()\n"
   ]
  },
  {
   "cell_type": "markdown",
   "metadata": {},
   "source": [
    "Inheritance"
   ]
  },
  {
   "cell_type": "code",
   "execution_count": 8,
   "metadata": {},
   "outputs": [
    {
     "name": "stdout",
     "output_type": "stream",
     "text": [
      "Brand= Maruti\n",
      "Model= 2022\n",
      "Mileage= 23\n",
      "Speed= 160\n",
      "color= blue\n"
     ]
    }
   ],
   "source": [
    "# Single level Inheritance\n",
    "# super class or Parent class\n",
    "class vehicle:\n",
    "    def __init__(self,brand,model,mileage):\n",
    "        self.brand = brand\n",
    "        self.model = model\n",
    "        self.mileage = mileage\n",
    "\n",
    "class car(vehicle):\n",
    "    def __init__(self,brand,model,mileage, speed,color):\n",
    "        super().__init__(brand,model,mileage)\n",
    "        self.speed = speed\n",
    "        self.color = color\n",
    "\n",
    "    def display(self):\n",
    "        print(f\"Brand= {self.brand}\\nModel= {self.model}\\nMileage= {self.mileage}\")\n",
    "        print(f\"Speed= {self.speed}\\ncolor= {self.color}\")\n",
    "        \n",
    "c1 = car('Maruti',2022,23,160,'blue')\n",
    "c1.display()\n",
    "\n",
    "\n"
   ]
  },
  {
   "cell_type": "markdown",
   "metadata": {},
   "source": [
    "Multi level inhertance"
   ]
  },
  {
   "cell_type": "code",
   "execution_count": 12,
   "metadata": {},
   "outputs": [
    {
     "name": "stdout",
     "output_type": "stream",
     "text": [
      "Issac has following permissions: Read, write, execute\n"
     ]
    }
   ],
   "source": [
    "# Multi-Level \n",
    "class Entity:\n",
    "    def __init__(self,name):\n",
    "        self.name = name\n",
    "\n",
    "class user(Entity):\n",
    "    def __init__(self,name,email):\n",
    "        super().__init__(name)\n",
    "        self.email = email\n",
    "\n",
    "class admin(user):\n",
    "    def __init__(self, name, email, permission):\n",
    "        super().__init__(name, email)\n",
    "        self.permission = permission\n",
    "\n",
    "    def display(self):\n",
    "        return f\"{self.name} has following permissions: {', '.join(self.permission)}\"\n",
    "    \n",
    "\n",
    "obj1 = admin('Issac','issac@example',['Read','write','execute'])\n",
    "print(obj1.display())\n",
    "        "
   ]
  },
  {
   "cell_type": "markdown",
   "metadata": {},
   "source": [
    "Hierarchical Inheritance"
   ]
  },
  {
   "cell_type": "code",
   "execution_count": 14,
   "metadata": {},
   "outputs": [
    {
     "name": "stdout",
     "output_type": "stream",
     "text": [
      "Andriod Phone\n",
      "Brand: Samsung, Model: S23, Color: Black, Os: Andriod14\n",
      "OSversion: 6.1, Processor: Exynos\n",
      "iPhone Phone\n",
      "Brand: Iphone, Model: 15Pro, Color: Black, Os: ios\n",
      "OSversion: 16, Processor: M1\n"
     ]
    }
   ],
   "source": [
    "class phone:\n",
    "    def __init__(self,brand,model,color):\n",
    "        self.brand = brand\n",
    "        self.model = model\n",
    "        self.color = color\n",
    "\n",
    "class andriod(phone):\n",
    "    def __init__(self,brand,model,color,os,osversion,processor):\n",
    "        super().__init__(brand,model,color)\n",
    "        self.os = os\n",
    "        self.osversion = osversion\n",
    "        self.processor = processor\n",
    "\n",
    "    def andrioddisplay(self):\n",
    "        print(\"Andriod Phone\")\n",
    "        print(f\"Brand: {self.brand}, Model: {self.model}, Color: {self.color}, Os: {self.os}\")\n",
    "        print(f\"OSversion: {self.osversion}, Processor: {self.processor}\")\n",
    "\n",
    "class iphone(phone):\n",
    "    def __init__(self,brand,model,color,os,osversion,processor):\n",
    "        super().__init__(brand,model,color)\n",
    "        self.os = os\n",
    "        self.osversion = osversion\n",
    "        self.processor = processor\n",
    "\n",
    "    def iphonedisplay(self):\n",
    "        print(\"iPhone Phone\")\n",
    "        print(f\"Brand: {self.brand}, Model: {self.model}, Color: {self.color}, Os: {self.os}\")\n",
    "        print(f\"OSversion: {self.osversion}, Processor: {self.processor}\")\n",
    "\n",
    "obj1 = andriod(\"Samsung\",\"S23\",\"Black\",\"Andriod14\",\"6.1\",\"Exynos\")\n",
    "obj1.andrioddisplay()\n",
    "\n",
    "obj1 = iphone(\"Iphone\",\"15Pro\",\"Black\",\"ios\",\"16\",\"M1\")\n",
    "obj1.iphonedisplay()"
   ]
  },
  {
   "cell_type": "markdown",
   "metadata": {},
   "source": [
    "Multiple Inheritance"
   ]
  },
  {
   "cell_type": "code",
   "execution_count": 22,
   "metadata": {},
   "outputs": [
    {
     "name": "stdout",
     "output_type": "stream",
     "text": [
      "name= Issac\n",
      "course= MCA\n",
      "category :Basketball\n",
      "age :23\n"
     ]
    }
   ],
   "source": [
    "class college():\n",
    "    def __init__(self,name,course):\n",
    "        self.name = name\n",
    "        self.course = course\n",
    "\n",
    "class cultural():\n",
    "    def __init__(self,category):\n",
    "        self.category = category\n",
    "\n",
    "class students(college, cultural):\n",
    "    def __init__(self, name, course, category,age):\n",
    "        college.__init__(self,name,course)\n",
    "        cultural.__init__(self, category)\n",
    "        '''\n",
    "    we cannot give two super, instead use this \n",
    "    self.category = category\n",
    "        '''\n",
    "        self.age = age\n",
    "\n",
    "    def display(self):\n",
    "        print(f\"name= {self.name}\\ncourse= {self.course}\")\n",
    "        print(f\"category :{self.category}\")\n",
    "        print(f\"age :{self.age}\")\n",
    "\n",
    "obj2 = students(\"Issac\",\"MCA\",\"Basketball\",23)\n",
    "obj2.display()"
   ]
  },
  {
   "cell_type": "markdown",
   "metadata": {},
   "source": [
    "Abstraction"
   ]
  },
  {
   "cell_type": "code",
   "execution_count": 24,
   "metadata": {},
   "outputs": [
    {
     "name": "stdout",
     "output_type": "stream",
     "text": [
      "Purchase amount:  1000\n",
      "debit card payment of-  1000\n"
     ]
    }
   ],
   "source": [
    "from abc import ABC, abstractmethod\n",
    "\n",
    "class Bill(ABC):\n",
    "    def print_slip(self,amount):\n",
    "        print(\"Purchase amount: \", amount)\n",
    "\n",
    "    @abstractmethod\n",
    "    def bill(self,amount):\n",
    "        pass\n",
    "\n",
    "class Debitcardpayment(Bill):\n",
    "    # method Overriding\n",
    "    def bill(self, amount):\n",
    "        print(\"debit card payment of- \", amount)\n",
    "\n",
    "absobj = Debitcardpayment()\n",
    "absobj.print_slip(1000)\n",
    "absobj.bill(1000)\n"
   ]
  },
  {
   "cell_type": "code",
   "execution_count": null,
   "metadata": {},
   "outputs": [],
   "source": []
  }
 ],
 "metadata": {
  "kernelspec": {
   "display_name": "Python 3",
   "language": "python",
   "name": "python3"
  },
  "language_info": {
   "codemirror_mode": {
    "name": "ipython",
    "version": 3
   },
   "file_extension": ".py",
   "mimetype": "text/x-python",
   "name": "python",
   "nbconvert_exporter": "python",
   "pygments_lexer": "ipython3",
   "version": "3.12.4"
  }
 },
 "nbformat": 4,
 "nbformat_minor": 2
}
