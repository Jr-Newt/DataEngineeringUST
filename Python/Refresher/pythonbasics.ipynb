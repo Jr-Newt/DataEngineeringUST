{
 "cells": [
  {
   "cell_type": "code",
   "execution_count": 2,
   "metadata": {},
   "outputs": [
    {
     "name": "stdout",
     "output_type": "stream",
     "text": [
      "this is python String. We are learning python programming\n"
     ]
    }
   ],
   "source": [
    "str1 = 'this is python String. We are learning python programming'\n",
    "print(str1)\n",
    "\n",
    "\n"
   ]
  },
  {
   "cell_type": "code",
   "execution_count": 3,
   "metadata": {},
   "outputs": [
    {
     "data": {
      "text/plain": [
       "'gnimmargorp nohtyp gninrael era eW .gnirtS nohtyp si siht'"
      ]
     },
     "execution_count": 3,
     "metadata": {},
     "output_type": "execute_result"
    }
   ],
   "source": [
    "str1[::-1] #reversing a string with slicing\n",
    "print(str1[:len(str1):-1])\n",
    "\n",
    "\n"
   ]
  },
  {
   "cell_type": "code",
   "execution_count": 5,
   "metadata": {},
   "outputs": [
    {
     "name": "stdout",
     "output_type": "stream",
     "text": [
      "this is python string. we are learning python programming\n"
     ]
    }
   ],
   "source": [
    "str1=str.lower(str1)\n",
    "print(str1)"
   ]
  },
  {
   "cell_type": "code",
   "execution_count": 6,
   "metadata": {},
   "outputs": [
    {
     "name": "stdout",
     "output_type": "stream",
     "text": [
      "The start index position of python in string: 8\n"
     ]
    }
   ],
   "source": [
    "print('The start index position of python in string: {}'.format(str1.find('python')))"
   ]
  },
  {
   "cell_type": "code",
   "execution_count": 7,
   "metadata": {},
   "outputs": [
    {
     "name": "stdout",
     "output_type": "stream",
     "text": [
      "tthis is python string. we are learning python programminghthis is python string. we are learning python programmingithis is python string. we are learning python programmingsthis is python string. we are learning python programming this is python string. we are learning python programmingithis is python string. we are learning python programmingsthis is python string. we are learning python programming this is python string. we are learning python programmingsthis is python string. we are learning python programmingtthis is python string. we are learning python programmingrthis is python string. we are learning python programmingithis is python string. we are learning python programmingnthis is python string. we are learning python programminggthis is python string. we are learning python programming this is python string. we are learning python programming2this is python string. we are learning python programming this is python string. we are learning python programmingfthis is python string. we are learning python programmingothis is python string. we are learning python programmingrthis is python string. we are learning python programming this is python string. we are learning python programmingpthis is python string. we are learning python programmingythis is python string. we are learning python programmingtthis is python string. we are learning python programminghthis is python string. we are learning python programmingothis is python string. we are learning python programmingn\n"
     ]
    }
   ],
   "source": [
    "str2 = 'this is string 2 for python'\n",
    "print(str2.join(str2))\n"
   ]
  },
  {
   "cell_type": "code",
   "execution_count": 14,
   "metadata": {},
   "outputs": [
    {
     "name": "stdout",
     "output_type": "stream",
     "text": [
      " hello how are you doing today.\n"
     ]
    }
   ],
   "source": [
    "#join collection of word string to join and create a sentence\n",
    "list10 = [\" hello\",\"how\",\"are\",\"you\",\"doing\",\"today.\"]\n",
    "sentence = \" \".join(list10)\n",
    "print(sentence)"
   ]
  },
  {
   "cell_type": "code",
   "execution_count": 12,
   "metadata": {},
   "outputs": [
    {
     "name": "stdout",
     "output_type": "stream",
     "text": [
      "Print a nunmber23.543\n"
     ]
    }
   ],
   "source": [
    "takeaninpit = float(input(\"enter the number\"))\n",
    "print(f\"Print a number {takeaninpit}\")"
   ]
  },
  {
   "cell_type": "code",
   "execution_count": 17,
   "metadata": {},
   "outputs": [
    {
     "name": "stdout",
     "output_type": "stream",
     "text": [
      " hello how are you doing today.\n",
      "hello how are you doing today.\n"
     ]
    }
   ],
   "source": [
    "# lstrip removes white spaces\n",
    "stripped_sentence = sentence.lstrip()\n",
    "print(sentence)\n",
    "print(stripped_sentence)"
   ]
  },
  {
   "cell_type": "code",
   "execution_count": 20,
   "metadata": {},
   "outputs": [
    {
     "data": {
      "text/plain": [
       "('hello how are you doing', ' ', 'today.')"
      ]
     },
     "execution_count": 20,
     "metadata": {},
     "output_type": "execute_result"
    }
   ],
   "source": [
    "# partition the inpur sentence separated by delimter\n",
    "partition_sentence = stripped_sentence.rpartition(\" \")\n",
    "partition_sentence"
   ]
  },
  {
   "cell_type": "code",
   "execution_count": 32,
   "metadata": {},
   "outputs": [
    {
     "name": "stdout",
     "output_type": "stream",
     "text": [
      "['hello', 'Python', 'We', 'Learning', 'List', 'and']\n",
      "['hello', 'Python', 'We', 'Learning', 'List', 'and', 'other data structures']\n"
     ]
    },
    {
     "data": {
      "text/plain": [
       "['hello',\n",
       " 'Python',\n",
       " 'We',\n",
       " 'Learning',\n",
       " 'List',\n",
       " 'and',\n",
       " 'other data structures',\n",
       " 'tuples',\n",
       " 'sets',\n",
       " 'dictionary',\n",
       " 'all',\n",
       " 'are',\n",
       " 'data strucuters.']"
      ]
     },
     "execution_count": 32,
     "metadata": {},
     "output_type": "execute_result"
    }
   ],
   "source": [
    "# list and its method\n",
    "list2 = {}\n",
    "list2 = list()\n",
    "list2 = ['hello','Python','We','Learning','List']\n",
    "list2.append('and')\n",
    "\n",
    "#shallow copy - it copies only the content\n",
    "list3 = list2.copy()\n",
    "#deep copy - copy the reference\n",
    "list4 = list2\n",
    "\n",
    "list2.append('other data structures')\n",
    "print(list3)\n",
    "print(list4)\n",
    "\n",
    "list2.extend(['tuples','sets','dictionary','all','are','data strucuters.'])\n",
    "list2\n",
    "\n"
   ]
  },
  {
   "cell_type": "code",
   "execution_count": 34,
   "metadata": {},
   "outputs": [
    {
     "name": "stdout",
     "output_type": "stream",
     "text": [
      "['hello', 'Python', 'We', 'Learning', 'List', 'and', 'other data structures', 'tuples', 'dictionary']\n"
     ]
    }
   ],
   "source": [
    "list2.pop()\n",
    "# remove the element from the list using index\n",
    "list2.pop(-2)\n",
    "print(list2)"
   ]
  },
  {
   "cell_type": "markdown",
   "metadata": {},
   "source": [
    "NB : Tuples interate faster compareed to lists. List manages two memory where tuples manages only One"
   ]
  },
  {
   "cell_type": "markdown",
   "metadata": {},
   "source": [
    "Sets - unordered collection of data. As it is unordered hence no indexes are there."
   ]
  },
  {
   "cell_type": "code",
   "execution_count": 45,
   "metadata": {},
   "outputs": [
    {
     "name": "stdout",
     "output_type": "stream",
     "text": [
      "{'C', 'Z', 'A'}\n",
      "{'F', 'J', 'G', 'I'}\n"
     ]
    }
   ],
   "source": [
    "set1 = set()\n",
    "set1 = {'A','B','C','D','E','E','H','A'}\n",
    "set2 = {'B','D','E','F','G','H','I','J'}\n",
    "set3 = {'H','I','J','K','L','H','N','O'}\n",
    "set1.add('Z')\n",
    "print(set1.difference(set2))\n",
    "print(set2.difference(set1))\n",
    "\n"
   ]
  },
  {
   "cell_type": "code",
   "execution_count": 46,
   "metadata": {},
   "outputs": [
    {
     "name": "stdout",
     "output_type": "stream",
     "text": [
      "{'E', 'Z', 'B', 'C', 'H', 'A', 'D'}\n",
      "{'Z', 'B', 'C', 'H', 'A', 'D'}\n",
      "{'Z', 'B', 'C', 'H', 'A', 'D'}\n",
      "{'B', 'C', 'H', 'A', 'D'}\n"
     ]
    }
   ],
   "source": [
    "# pop - remove random value from set\n",
    "print(set1)\n",
    "set1.pop()\n",
    "print(set1)\n",
    "\n",
    "print(set1)\n",
    "set1.pop()\n",
    "print(set1)"
   ]
  },
  {
   "cell_type": "code",
   "execution_count": 47,
   "metadata": {},
   "outputs": [
    {
     "name": "stdout",
     "output_type": "stream",
     "text": [
      "{'p', 'H', 'A', 'D', 'n', ' ', 'i', 'r', 'h', 'f', '2', 'B', 'y', 'C', 'g', 'o', 't', 's'}\n",
      "None\n"
     ]
    }
   ],
   "source": [
    "# UNION - concatination of two set without including duplicate values\n",
    "print(set1.union(str2))\n",
    "# UPDATE - updates the set1 by dummy input set\n",
    "print(set1.update({'O','P','Q'}))"
   ]
  },
  {
   "cell_type": "code",
   "execution_count": 48,
   "metadata": {},
   "outputs": [
    {
     "name": "stdout",
     "output_type": "stream",
     "text": [
      "{'I', 'G', 'C', 'P', 'A', 'E', 'F', 'J', 'Q', 'O'}\n"
     ]
    }
   ],
   "source": [
    "# union of two sets concatinating in either of two set but not present in both\n",
    "print(set1.symmetric_difference(set2))"
   ]
  },
  {
   "cell_type": "code",
   "execution_count": 49,
   "metadata": {},
   "outputs": [
    {
     "name": "stdout",
     "output_type": "stream",
     "text": [
      "{'H', 'D', 'B'}\n"
     ]
    }
   ],
   "source": [
    "\n",
    "# common between both sets\n",
    "print(set1.intersection(set2))"
   ]
  },
  {
   "cell_type": "markdown",
   "metadata": {},
   "source": [
    "Dictionary"
   ]
  },
  {
   "cell_type": "code",
   "execution_count": 66,
   "metadata": {},
   "outputs": [
    {
     "name": "stdout",
     "output_type": "stream",
     "text": [
      "{'Kochi': '10', 'TVM': '20', 'BLR': '30', 'HYD': '40', 'TCR': '50'}\n",
      "{'Kochi': 10, 'TVM': 20, 'BLR': 30, 'HYD': 40, 'TCR': 50}\n",
      "-----------------------------------------------\n",
      "Kochi 10\n",
      "TVM 20\n",
      "BLR 30\n",
      "HYD 40\n",
      "TCR 50\n"
     ]
    }
   ],
   "source": [
    "dict1 = {} #Declaring an empty dictionary\n",
    "dict1 = {'A':'Apple','B':'Blackberry','C':'cranberry','D':'Donuts','E':'Eclairs'}\n",
    "dict2 = {'TVM':10,'Kochi':10,'Blr':30}\n",
    "\n",
    "# Method 1\n",
    "city= ['Kochi','TVM','BLR','HYD','TCR']\n",
    "emp = ['10','20','30','40','50']\n",
    "\n",
    "print(dict(zip(city,emp)))\n",
    "\n",
    "# Method - 2\n",
    "\n",
    "# print(dict1.fromkeys(city,20))\n",
    "# print(dict1.fromkeys(city,))\n",
    "\n",
    "# Method -3\n",
    "dict3 = dict([('Kochi',10),('TVM',20),('BLR',30),('HYD',40),('TCR',50)])\n",
    "print(dict3)\n",
    "\n",
    "print(\"-----------------------------------------------\")\n",
    "for key,value in dict3.items():\n",
    "    print(key,value)"
   ]
  },
  {
   "cell_type": "code",
   "execution_count": 73,
   "metadata": {},
   "outputs": [
    {
     "name": "stdout",
     "output_type": "stream",
     "text": [
      "[(0, 'suzuki'), (1, 'honda'), (2, 'yamaha')]\n",
      "1 suzuki\n",
      "2 honda\n",
      "3 yamaha\n",
      "Index:1:Key =TVM, Value - 10\n",
      "Index:2:Key =Kochi, Value - 10\n",
      "Index:3:Key =Blr, Value - 30\n"
     ]
    }
   ],
   "source": [
    "#ENUMERATE\n",
    "li1=['suzuki','honda','yamaha']\n",
    "print(list(enumerate(li1)))\n",
    "\n",
    "#another method\n",
    "for index, value in enumerate(li1,start=1):\n",
    "    print(index, value)\n",
    "\n",
    "for index, key in enumerate(dict2, start=1):\n",
    "    print(f\"Index:{index}:Key ={key}, Value - {dict2[key]}\")\n",
    "     "
   ]
  },
  {
   "cell_type": "code",
   "execution_count": null,
   "metadata": {},
   "outputs": [],
   "source": []
  }
 ],
 "metadata": {
  "kernelspec": {
   "display_name": "Python 3",
   "language": "python",
   "name": "python3"
  },
  "language_info": {
   "codemirror_mode": {
    "name": "ipython",
    "version": 3
   },
   "file_extension": ".py",
   "mimetype": "text/x-python",
   "name": "python",
   "nbconvert_exporter": "python",
   "pygments_lexer": "ipython3",
   "version": "3.12.4"
  }
 },
 "nbformat": 4,
 "nbformat_minor": 2
}
