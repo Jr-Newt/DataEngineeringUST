{
 "cells": [
  {
   "cell_type": "markdown",
   "metadata": {},
   "source": [
    "User defined function (UDF)"
   ]
  },
  {
   "cell_type": "code",
   "execution_count": null,
   "metadata": {},
   "outputs": [],
   "source": [
    "# 1. user defined function (UDF)\n",
    "\n",
    "def greetings():\n",
    "    return \"Hello, How are you doing today?\"\n",
    "\n",
    "print(greetings())\n"
   ]
  },
  {
   "cell_type": "markdown",
   "metadata": {},
   "source": [
    "Lambda Function"
   ]
  },
  {
   "cell_type": "code",
   "execution_count": null,
   "metadata": {},
   "outputs": [],
   "source": [
    "# 2. Lambda functions\n",
    "multiply = lambda x:x * 2\n",
    "# Declare a function with an argument\n",
    "print(multiply(20))"
   ]
  },
  {
   "cell_type": "markdown",
   "metadata": {},
   "source": [
    "In-Built functions"
   ]
  },
  {
   "cell_type": "code",
   "execution_count": null,
   "metadata": {},
   "outputs": [],
   "source": [
    "from functools import reduce\n",
    "#map\n",
    "l=[1,2,3,4,5,6,7,8,9,10]\n",
    "l1= map(lambda x:x*x ,l)\n",
    "print(l1)\n",
    "# filter\n",
    "l2 =filter(lambda x:x%2==0,l)\n",
    "print(l2)\n",
    "# reduce\n",
    "l3 =reduce(lambda x, y: x + y,l)\n",
    "print(l3)"
   ]
  },
  {
   "cell_type": "code",
   "execution_count": null,
   "metadata": {},
   "outputs": [],
   "source": [
    "print(functools.reduce(lambda x,y:x+y,[1,2,3,4])) #Reduce"
   ]
  },
  {
   "cell_type": "code",
   "execution_count": null,
   "metadata": {},
   "outputs": [],
   "source": [
    "#create a function and apply it on reduce() method to retrun aggregate sales data\n",
    "#Accumulate total sales revenue for each product\n",
    "# Find top selling product and top selling revenue\n",
    "\n",
    "sales = [{\"product\":\"Laptop\",\"amount\":50000},\n",
    "         {\"product\":\"iPhone\",\"amount\":150000},\n",
    "         {\"product\":\"Smart TV\",\"amount\":75000},\n",
    "         {\"product\":\"Gaming Console\",\"amount\":35000},\n",
    "         {\"product\":\"Mouse\",\"amount\":500},\n",
    "         {\"product\":\"iPhone\",\"amount\":70000},\n",
    "         {\"product\":\"Laptop\",\"amount\":90000}]\n",
    "\n",
    "def accumulate(accumulator, transaction):\n",
    "    product = transaction[\"product\"]\n",
    "    amount = transaction['amount']\n",
    "    accumulator[product] += amount\n",
    "    return accumulator\n",
    "        \n",
    "from functools import reduce\n",
    "from collections import defaultdict\n",
    "#reduce(function, iterable, initializer) - Intializer --> a starting value used to initialize \n",
    "total_sales = reduce(accumulate,sales,defaultdict(int))\n",
    "\n",
    "for key, value in total_sales.items():\n",
    "    print(f\"{key}: {value}\")\n",
    "\n",
    "# defaultdic() is a subset of dictionary - to avoid KeyError\n",
    "\n",
    "# Find top selling product and top selling revenue\n",
    "\n",
    "# print(f\"Top selling product is {max(total_sales)}\")\n",
    "# print(f\"Top revenue is {total_sales[max(total_sales)]}\")\n",
    "\n",
    "top_selling_product = max(total_sales, key = total_sales.get) #get\n",
    "top_selling_revenue = total_sales[top_selling_product]\n",
    "\n",
    "print(top_selling_product)\n",
    "print(top_selling_revenue)\n",
    "\n"
   ]
  },
  {
   "cell_type": "markdown",
   "metadata": {},
   "source": [
    "*args and **kwargs"
   ]
  },
  {
   "cell_type": "code",
   "execution_count": 27,
   "metadata": {},
   "outputs": [
    {
     "name": "stdout",
     "output_type": "stream",
     "text": [
      "5\n",
      "10\n",
      "name:Issac\n",
      "age:23\n",
      "city:EKM\n",
      "job:data engineer\n",
      "name:Issac\n",
      "age:23\n",
      "city:EKM\n",
      "job:Data engineer\n"
     ]
    }
   ],
   "source": [
    "# *args\n",
    "\n",
    "def add(*num):\n",
    "    total_sum = sum(num)\n",
    "    return total_sum\n",
    "\n",
    "print(add(2,3))\n",
    "numlist = [1,2,3,4]\n",
    "print(add(*numlist))\n",
    "\n",
    "\n",
    "# **kwargs\n",
    "def emp(**kwargs):\n",
    "    for key,value  in kwargs.items():\n",
    "        print(f\"{key}:{value}\")\n",
    "\n",
    "emp(name = \"Issac\",age =23, city = \"EKM\", job= \"data engineer\")\n",
    "issacdetails = {'name': 'Issac','age':'23','city':'EKM','job':'Data engineer'}\n",
    "emp(**issacdetails)\n",
    "\n",
    "\n",
    "\n",
    "\n",
    "\n",
    "\n"
   ]
  },
  {
   "cell_type": "code",
   "execution_count": null,
   "metadata": {},
   "outputs": [],
   "source": []
  }
 ],
 "metadata": {
  "kernelspec": {
   "display_name": "Python 3",
   "language": "python",
   "name": "python3"
  },
  "language_info": {
   "codemirror_mode": {
    "name": "ipython",
    "version": 3
   },
   "file_extension": ".py",
   "mimetype": "text/x-python",
   "name": "python",
   "nbconvert_exporter": "python",
   "pygments_lexer": "ipython3",
   "version": "3.12.4"
  }
 },
 "nbformat": 4,
 "nbformat_minor": 2
}
