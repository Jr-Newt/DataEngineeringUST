{
 "cells": [
  {
   "cell_type": "code",
   "execution_count": null,
   "metadata": {},
   "outputs": [],
   "source": [
    "# Condition Controlled loop - while\n",
    "condition = 0\n",
    "while condition <= 5:\n",
    "    print(2 * condition)\n",
    "    condition +=1\n"
   ]
  },
  {
   "cell_type": "code",
   "execution_count": 3,
   "metadata": {},
   "outputs": [
    {
     "name": "stdout",
     "output_type": "stream",
     "text": [
      "10\n",
      "11\n",
      "12\n",
      "13\n",
      "14\n"
     ]
    }
   ],
   "source": [
    "# Count controlled - For \n",
    "for num in range(10,15):\n",
    "    print(num)"
   ]
  },
  {
   "cell_type": "code",
   "execution_count": 10,
   "metadata": {},
   "outputs": [
    {
     "name": "stdout",
     "output_type": "stream",
     "text": [
      "<class 'list'>\n",
      "10\n",
      "20\n",
      "30\n",
      "40\n",
      "50\n"
     ]
    }
   ],
   "source": [
    "# Collection Controlled loop\n",
    "list1 = [10,20,30,40,50]\n",
    "print(type(list1))\n",
    "for value in list1:\n",
    "    print(value)"
   ]
  },
  {
   "cell_type": "code",
   "execution_count": 6,
   "metadata": {},
   "outputs": [
    {
     "data": {
      "text/plain": [
       "35"
      ]
     },
     "execution_count": 6,
     "metadata": {},
     "output_type": "execute_result"
    }
   ],
   "source": [
    "import keyword\n",
    "\n",
    "len(keyword.kwlist)"
   ]
  },
  {
   "cell_type": "code",
   "execution_count": 15,
   "metadata": {},
   "outputs": [
    {
     "name": "stdout",
     "output_type": "stream",
     "text": [
      "[10, 20, 30, 40, 50]\n"
     ]
    },
    {
     "ename": "NameError",
     "evalue": "name 'list1' is not defined",
     "output_type": "error",
     "traceback": [
      "\u001b[1;31m---------------------------------------------------------------------------\u001b[0m",
      "\u001b[1;31mNameError\u001b[0m                                 Traceback (most recent call last)",
      "Cell \u001b[1;32mIn[15], line 6\u001b[0m\n\u001b[0;32m      4\u001b[0m \u001b[38;5;28mprint\u001b[39m(list1)\n\u001b[0;32m      5\u001b[0m \u001b[38;5;28;01mdel\u001b[39;00m(list1)\n\u001b[1;32m----> 6\u001b[0m \u001b[38;5;28mprint\u001b[39m(\u001b[43mlist1\u001b[49m)\n",
      "\u001b[1;31mNameError\u001b[0m: name 'list1' is not defined"
     ]
    }
   ],
   "source": [
    "# Delete a python object\n",
    "list1 = [10,20,30,40,50]\n",
    "# list1.clear()\n",
    "print(list1)\n",
    "del(list1)\n",
    "print(list1)"
   ]
  },
  {
   "cell_type": "code",
   "execution_count": 18,
   "metadata": {},
   "outputs": [
    {
     "name": "stdout",
     "output_type": "stream",
     "text": [
      "['y', 'a', 'y', 'y', 'y', ' ', ' ', 'l', 'u', 'n', 'c', 'h']\n"
     ]
    }
   ],
   "source": [
    "statement = \"yayyy  lunch\"\n",
    "list_val =[]\n",
    "for words in statement:\n",
    "    list_val.append(words)\n",
    "\n",
    "print(list_val)"
   ]
  },
  {
   "cell_type": "code",
   "execution_count": 20,
   "metadata": {},
   "outputs": [
    {
     "name": "stdout",
     "output_type": "stream",
     "text": [
      "Sister is elder\n"
     ]
    }
   ],
   "source": [
    "#conditional statements\n",
    "bro_age = int(input(\"enter brothers age: \"))\n",
    "sis_age = int(input(\"enter sisters age: \"))\n",
    "\n",
    "if bro_age > sis_age:\n",
    "    print(\"Brother is elder\")\n",
    "elif bro_age < sis_age:\n",
    "    print(\"Sister is elder\")\n",
    "else:\n",
    "    print(\"Both are Twins\")"
   ]
  },
  {
   "cell_type": "code",
   "execution_count": 26,
   "metadata": {},
   "outputs": [
    {
     "name": "stdout",
     "output_type": "stream",
     "text": [
      "Login Successful. Welcome\n",
      "Exiting from the portal\n"
     ]
    }
   ],
   "source": [
    "#create a login access using loop and condition statement\n",
    "while True:\n",
    "    choice = input(\"choose an option\")\n",
    "    if choice == \"login\":\n",
    "        user = input(\"enter user name: \")\n",
    "        password = input(\"Enter user password: \")\n",
    "        if user =='admin' and password =='pass@word':\n",
    "            print(\"Login Successful. Welcome\")\n",
    "        else:\n",
    "            print(\"Incorrect username or password, try Again\")\n",
    "\n",
    "    elif choice == 'quit':\n",
    "        print(\"Exiting from the portal\")\n",
    "        break\n",
    "\n",
    "    else:\n",
    "        print(\"invalid choice\")\n",
    "\n"
   ]
  },
  {
   "cell_type": "markdown",
   "metadata": {},
   "source": [
    "Break and Continue"
   ]
  },
  {
   "cell_type": "code",
   "execution_count": 32,
   "metadata": {},
   "outputs": [
    {
     "name": "stdout",
     "output_type": "stream",
     "text": [
      "Kochi\n",
      "TVM\n",
      "BLR\n",
      "HYD\n",
      "TCR\n"
     ]
    }
   ],
   "source": [
    "list_a = ['Kochi','TVM',None,'BLR',None,'HYD',None,'TCR']\n",
    "for word in list_a:\n",
    "    if word == None:\n",
    "        continue\n",
    "    else:\n",
    "        print(word)\n",
    "\n",
    " \n"
   ]
  },
  {
   "cell_type": "code",
   "execution_count": null,
   "metadata": {},
   "outputs": [],
   "source": []
  }
 ],
 "metadata": {
  "kernelspec": {
   "display_name": "Python 3",
   "language": "python",
   "name": "python3"
  },
  "language_info": {
   "codemirror_mode": {
    "name": "ipython",
    "version": 3
   },
   "file_extension": ".py",
   "mimetype": "text/x-python",
   "name": "python",
   "nbconvert_exporter": "python",
   "pygments_lexer": "ipython3",
   "version": "3.12.4"
  }
 },
 "nbformat": 4,
 "nbformat_minor": 2
}
