{
 "cells": [
  {
   "cell_type": "code",
   "execution_count": 1,
   "metadata": {},
   "outputs": [],
   "source": [
    "import numpy as np"
   ]
  },
  {
   "cell_type": "code",
   "execution_count": 10,
   "metadata": {},
   "outputs": [
    {
     "name": "stdout",
     "output_type": "stream",
     "text": [
      "[10 20 30 40 50 60 70 80 90]\n"
     ]
    }
   ],
   "source": [
    "arr1 = np.array([10,20,30,40,50,60,70,80,90], dtype = 'int8')\n",
    "print(arr1)"
   ]
  },
  {
   "cell_type": "markdown",
   "metadata": {},
   "source": [
    "numpy Array In-built method and properties"
   ]
  },
  {
   "cell_type": "code",
   "execution_count": 11,
   "metadata": {},
   "outputs": [
    {
     "name": "stdout",
     "output_type": "stream",
     "text": [
      "[10 20 30 40 50 60 70 80 90]\n",
      "(9,)\n",
      "<class 'numpy.ndarray'>\n",
      "int8\n",
      "1\n",
      "1\n",
      "9\n",
      "9\n"
     ]
    }
   ],
   "source": [
    "print(arr1)\n",
    "print(arr1.shape) #rows and coloumns\n",
    "print(type(arr1))\n",
    "print(arr1.dtype)  #return data-type\n",
    "print(arr1.itemsize)\n",
    "print(arr1.ndim) #dimentianality - 1D\n",
    "print(arr1.size) #size() - return total size of arra\n",
    "print(arr1.nbytes) #nbytes = total size of numpy array"
   ]
  },
  {
   "cell_type": "markdown",
   "metadata": {},
   "source": [
    "Types of Numpy array"
   ]
  },
  {
   "cell_type": "code",
   "execution_count": 19,
   "metadata": {},
   "outputs": [
    {
     "name": "stdout",
     "output_type": "stream",
     "text": [
      "(3, 4)\n",
      "2\n",
      "8\n",
      "[[[19 11 13 23 45]\n",
      "  [18 23 54 76 23]\n",
      "  [11 23 54 87 99]]\n",
      "\n",
      " [[12 13 14 15 16]\n",
      "  [21 22 23 34 17]\n",
      "  [31 32 44 32 18]]]\n",
      "(2, 3, 5)\n",
      "3\n",
      "8\n"
     ]
    }
   ],
   "source": [
    "#create 1D array\n",
    "arr2 = np.array([10,15,17,21,23,44,65,89])\n",
    "\n",
    "#create a 2-D arrar - Matrix\n",
    "arr3 = np.array([[19,11,13,23],\n",
    "                 [18,23,54,76],\n",
    "                 [11,23,54,87]])\n",
    "\n",
    "#shape returns(rows, coloumns)\n",
    "print(arr3.shape)\n",
    "print(arr3.ndim)\n",
    "print(arr3.itemsize)\n",
    "\n",
    "#three dimension (3D) array\n",
    "arr4 = np.array([[[19,11,13,23,45],\n",
    "                 [18,23,54,76,23],\n",
    "                 [11,23,54,87,99]],\n",
    "                 \n",
    "                 [[12,13,14,15,16],\n",
    "                 [21,22,23,34,17],\n",
    "                 [31,32,44,32,18]]])\n",
    "\n",
    "print(arr4)\n",
    "print(arr4.shape) #shapes return (metrics, rows, coloumns)\n",
    "print(arr4.ndim)\n",
    "print(arr4.itemsize)\n",
    "\n",
    "        "
   ]
  },
  {
   "cell_type": "code",
   "execution_count": 34,
   "metadata": {},
   "outputs": [
    {
     "name": "stdout",
     "output_type": "stream",
     "text": [
      "[[19 11 13 23]\n",
      " [18 23 54 76]\n",
      " [11 23 54 87]]\n",
      "   \n",
      "[19 11 13 23]\n",
      "\n",
      "[[19 11 13 23]\n",
      " [18 23 54 76]\n",
      " [11 23 54 87]]\n",
      "\n",
      "[19 18 11]\n",
      "\n",
      "[[19 11]\n",
      " [18 23]\n",
      " [11 23]]\n",
      "\n",
      "[[23 54]]\n"
     ]
    }
   ],
   "source": [
    "#slicing & indexing\n",
    "print(arr3)\n",
    "print(\"   \")\n",
    "print(arr3[0]) #slicing for first rows element\n",
    "print(\"\")\n",
    "print(arr3[:,:]) #all rows and columns\n",
    "print(\"\")\n",
    "print(arr3[:,0]) #slicing elements from all rows and first columns index\n",
    "print(\"\")\n",
    "print(arr3[:,0:2]) #slicing first two columns\n",
    "print(\"\")\n",
    "print(arr3[1:-1,1:-1])"
   ]
  },
  {
   "cell_type": "code",
   "execution_count": 36,
   "metadata": {},
   "outputs": [
    {
     "name": "stdout",
     "output_type": "stream",
     "text": [
      "199\n"
     ]
    }
   ],
   "source": [
    "arr4 = np.array([[[19,11,13,23,45],\n",
    "                 [18,23,54,76,23],\n",
    "                 [11,23,54,87,99]],\n",
    "                 \n",
    "                 [[12,13,14,15,16],\n",
    "                 [21,22,199,34,17],\n",
    "                 [31,32,44,32,18]]])\n",
    "#slicing 3-D numpy array\n",
    "print(arr4[1,1,2])"
   ]
  },
  {
   "cell_type": "code",
   "execution_count": 43,
   "metadata": {},
   "outputs": [
    {
     "name": "stdout",
     "output_type": "stream",
     "text": [
      "[ 1  2  3  4  5  6  7  8  9 10 11 12 13 14 15 16 17 18 19 20 21 22 23 24\n",
      " 25 26 27 28 29 30 31 32 33 34 35 36 37 38 39 40 41 42 43 44 45 46 47 48\n",
      " 49 50]\n",
      "\n",
      "[[[ 1  2  3  4  5]\n",
      "  [ 6  7  8  9 10]\n",
      "  [11 12 13 14 15]\n",
      "  [16 17 18 19 20]\n",
      "  [21 22 23 24 25]]\n",
      "\n",
      " [[26 27 28 29 30]\n",
      "  [31 32 33 34 35]\n",
      "  [36 37 38 39 40]\n",
      "  [41 42 43 44 45]\n",
      "  [46 47 48 49 50]]]\n"
     ]
    }
   ],
   "source": [
    "#create Numpy array using function\n",
    "arr5 = np.arange(1,51) #create 1-D array\n",
    "print(arr5)\n",
    "print(\"\")\n",
    "arr6 = np.arange(1,51).reshape(2,5,5)\n",
    "print(arr6)"
   ]
  },
  {
   "cell_type": "code",
   "execution_count": 51,
   "metadata": {},
   "outputs": [
    {
     "name": "stdout",
     "output_type": "stream",
     "text": [
      "[[0 0 0 0 0 0 0]\n",
      " [0 0 0 0 0 0 0]\n",
      " [0 0 0 0 0 0 0]\n",
      " [0 0 0 0 0 0 0]\n",
      " [0 0 0 0 0 0 0]]\n",
      "\n",
      "[[0. 0. 0. 0. 0. 0. 0.]\n",
      " [0. 0. 0. 0. 0. 0. 0.]\n",
      " [0. 0. 0. 0. 0. 0. 0.]\n",
      " [0. 0. 0. 0. 0. 0. 0.]\n",
      " [0. 0. 0. 0. 0. 0. 0.]]\n"
     ]
    }
   ],
   "source": [
    "#zero matrix : np.zero(shape)\n",
    "arr7 = np.zeros((5,7),dtype = 'int16')\n",
    "print(arr7)\n",
    "print(\"\")\n",
    "print(arr7.astype('float16')) #type casting from int to float\n"
   ]
  },
  {
   "cell_type": "code",
   "execution_count": 60,
   "metadata": {},
   "outputs": [
    {
     "name": "stdout",
     "output_type": "stream",
     "text": [
      "[[1. 1. 1. 1. 1.]\n",
      " [1. 1. 1. 1. 1.]\n",
      " [1. 1. 1. 1. 1.]\n",
      " [1. 1. 1. 1. 1.]\n",
      " [1. 1. 1. 1. 1.]]\n",
      "\n",
      "[[1. 0. 0. 0. 0.]\n",
      " [0. 1. 0. 0. 0.]\n",
      " [0. 0. 1. 0. 0.]\n",
      " [0. 0. 0. 1. 0.]\n",
      " [0. 0. 0. 0. 1.]]\n",
      "\n",
      "[[3.47739925e-081]\n",
      " [1.50094440e-076]\n",
      " [1.66844330e-047]\n",
      " [5.40526783e-066]\n",
      " [7.25365527e+169]\n",
      " [3.46458890e-317]]\n",
      "[[2.]\n",
      " [2.]\n",
      " [2.]\n",
      " [2.]\n",
      " [2.]\n",
      " [2.]]\n",
      "\n",
      "[6.1 6.1 6.1 6.1 6.1 6.1 6.1 6.1 6.1 6.1]\n"
     ]
    }
   ],
   "source": [
    "arr8 = np.ones((5,5))\n",
    "print(arr8)\n",
    "print(\"\")\n",
    "\n",
    "arr9 = np.identity(5)\n",
    "print(arr9)\n",
    "\n",
    "print('')\n",
    "\n",
    "arr10 = np.empty((6,1))\n",
    "print(arr10)\n",
    "#fill all position with 2.0 float value\n",
    "arr10.fill(2.0)\n",
    "print(arr10)\n",
    "\n",
    "\n",
    "print(\"\")\n",
    "#full\n",
    "print(np.full(10,6.1))\n"
   ]
  },
  {
   "cell_type": "code",
   "execution_count": 68,
   "metadata": {},
   "outputs": [
    {
     "name": "stdout",
     "output_type": "stream",
     "text": [
      "[ 10.  20.  30.  40.  50.  60.  70.  80.  90. 100.]\n"
     ]
    }
   ],
   "source": [
    "#linspace\n",
    "#create N evenly spaced array, here N is num of elements\n",
    "print(np.linspace(10,100,10))\n"
   ]
  },
  {
   "cell_type": "code",
   "execution_count": 69,
   "metadata": {},
   "outputs": [
    {
     "data": {
      "text/plain": [
       "array([ 1.        ,  1.29154967,  1.66810054,  2.15443469,  2.7825594 ,\n",
       "        3.59381366,  4.64158883,  5.9948425 ,  7.74263683, 10.        ])"
      ]
     },
     "execution_count": 69,
     "metadata": {},
     "output_type": "execute_result"
    }
   ],
   "source": [
    "#logspace - N evenly spaced array elements on a log scale between start and stop (log base 10)\n",
    "\n",
    "np.logspace(0,1,10,base=10)"
   ]
  },
  {
   "cell_type": "code",
   "execution_count": 71,
   "metadata": {},
   "outputs": [
    {
     "name": "stdout",
     "output_type": "stream",
     "text": [
      "[[1 1 1 1 1 1 1 1 1 1]\n",
      " [1 0 0 0 0 0 0 0 0 1]\n",
      " [1 0 0 0 0 0 0 0 0 1]\n",
      " [1 0 0 0 0 0 0 0 0 1]\n",
      " [1 0 0 0 0 0 0 0 0 1]\n",
      " [1 0 0 0 0 0 0 0 0 1]\n",
      " [1 0 0 0 0 0 0 0 0 1]\n",
      " [1 0 0 0 0 0 0 0 0 1]\n",
      " [1 0 0 0 0 0 0 0 0 1]\n",
      " [1 1 1 1 1 1 1 1 1 1]]\n"
     ]
    }
   ],
   "source": [
    "#exercise - 1\n",
    "\n",
    "arr11 = np.full((10,10),1)\n",
    "arr11[1:-1,1:-1].fill(0)\n",
    "print(arr11)"
   ]
  },
  {
   "cell_type": "code",
   "execution_count": 84,
   "metadata": {},
   "outputs": [
    {
     "data": {
      "text/plain": [
       "array([[0, 1, 0, 1, 0, 1, 0, 1, 0, 1],\n",
       "       [1, 0, 1, 0, 1, 0, 1, 0, 1, 0],\n",
       "       [0, 1, 0, 1, 0, 1, 0, 1, 0, 1],\n",
       "       [1, 0, 1, 0, 1, 0, 1, 0, 1, 0],\n",
       "       [0, 1, 0, 1, 0, 1, 0, 1, 0, 1],\n",
       "       [1, 0, 1, 0, 1, 0, 1, 0, 1, 0],\n",
       "       [0, 1, 0, 1, 0, 1, 0, 1, 0, 1],\n",
       "       [1, 0, 1, 0, 1, 0, 1, 0, 1, 0],\n",
       "       [0, 1, 0, 1, 0, 1, 0, 1, 0, 1],\n",
       "       [1, 0, 1, 0, 1, 0, 1, 0, 1, 0]])"
      ]
     },
     "execution_count": 84,
     "metadata": {},
     "output_type": "execute_result"
    }
   ],
   "source": [
    "# Exercise - 2\n",
    "\n",
    "arr12 = np.full((10,10),1)\n",
    "arr12[0::2,::2].fill(0)\n",
    "arr12[1::2,1::2].fill(0)\n",
    "arr12\n"
   ]
  },
  {
   "cell_type": "code",
   "execution_count": 88,
   "metadata": {},
   "outputs": [
    {
     "name": "stdout",
     "output_type": "stream",
     "text": [
      "98\n",
      "[[ 3  7 12]\n",
      " [ 7  9 12]\n",
      " [14 13 21]]\n",
      "[[14 22 25]\n",
      " [10  7 20]]\n"
     ]
    }
   ],
   "source": [
    "#Mathematical Operations - Numpy Array\n",
    "arr13 = np.array([[[1,3,5],\n",
    "                  [4,8,7],\n",
    "                  [9,11,13]],\n",
    "                  \n",
    "                  [[2,4,7],\n",
    "                   [3,1,5],\n",
    "                   [5,2,8]]])\n",
    "\n",
    "print(arr13.sum())\n",
    "\n",
    "print(arr13.sum(axis = 0))#row wise\n",
    "print(arr13.sum(axis = 1)) #columnwise"
   ]
  },
  {
   "cell_type": "code",
   "execution_count": 92,
   "metadata": {},
   "outputs": [
    {
     "name": "stdout",
     "output_type": "stream",
     "text": [
      "[[[ 1  3  5]\n",
      "  [ 4  8  7]\n",
      "  [ 9 11 13]]\n",
      "\n",
      " [[ 2  4  7]\n",
      "  [ 3  1  5]\n",
      "  [ 5  2  8]]]\n",
      "1\n",
      "13\n",
      "(array([0, 0, 0]), array([2, 2, 2]), array([0, 1, 2]))\n"
     ]
    }
   ],
   "source": [
    "print(arr13)\n",
    "print(arr13.min())\n",
    "print(arr13.max())\n",
    "print(np.where(arr13 > 8))"
   ]
  },
  {
   "cell_type": "code",
   "execution_count": 97,
   "metadata": {},
   "outputs": [
    {
     "name": "stdout",
     "output_type": "stream",
     "text": [
      "[[ 1  2  3  4]\n",
      " [ 5  6  7  8]\n",
      " [ 9 10 11 12]\n",
      " [13 14 15 16]\n",
      " [17 18 19 20]]\n",
      "(array([2, 2, 2, 2, 3, 3, 3, 3, 4, 4, 4, 4]), array([0, 1, 2, 3, 0, 1, 2, 3, 0, 1, 2, 3]))\n"
     ]
    }
   ],
   "source": [
    "#where(0 - return index position for condiiton = true)\n",
    "arr14 = np.arange(1,21).reshape(5,4)\n",
    "print(arr14)\n",
    "print(np.where(arr14 > 8))"
   ]
  },
  {
   "cell_type": "code",
   "execution_count": 100,
   "metadata": {},
   "outputs": [
    {
     "name": "stdout",
     "output_type": "stream",
     "text": [
      "<built-in method mean of numpy.ndarray object at 0x0000022040802A90>\n",
      "[16. 17. 18. 19. 20. 21.]\n",
      "[ 3.5  9.5 15.5 21.5 27.5 33.5]\n",
      "10.388294694831615\n",
      "107.91666666666667\n"
     ]
    }
   ],
   "source": [
    "#statistical methods\n",
    "arr15 = np.arange(1,37).reshape(6,6)\n",
    "print(arr15.mean)               #calculate mean()\n",
    "print(arr15.mean(axis = 0))     #calculate mean - rowwise\n",
    "print(arr15.mean(axis = 1))     #calculate mean() - column wise\n",
    "\n",
    "print(np.std(arr15))            # Standard deviation\n",
    "print(np.var(arr15))            # variance\n"
   ]
  },
  {
   "cell_type": "code",
   "execution_count": 105,
   "metadata": {},
   "outputs": [
    {
     "name": "stdout",
     "output_type": "stream",
     "text": [
      "[ 0  1  2  3  4  5  6  7  8  9 10 11 12 13 14 15 16 17 18 19 20 21 22 23\n",
      " 24 25 26 27 28 29 30 31 32 33 34 35 36 37 38 39 40 41 42 43 44 45 46 47\n",
      " 48 49]\n",
      "\n",
      "[49 48 47 46 45 44 43 42 41 40 39 38 37 36 35 34 33 32 31 30 29 28 27 26\n",
      " 25 24 23 22 21 20 19 18 17 16 15 14 13 12 11 10  9  8  7  6  5  4  3  2\n",
      "  1  0]\n",
      "\n",
      "[50 49 48 47 46 45 44 43 42 41 40 39 38 37 36 35 34 33 32 31 30 29 28 27\n",
      " 26 25 24 23 22 21 20 19 18 17 16 15 14 13 12 11 10  9  8  7  6  5  4  3\n",
      "  2  1]\n"
     ]
    }
   ],
   "source": [
    "#array reverse\n",
    "arr16 = np.arange(50)\n",
    "print(arr16)\n",
    "print(\"\")\n",
    "print(arr16[::-1])\n",
    "print(\"\")"
   ]
  },
  {
   "cell_type": "code",
   "execution_count": 117,
   "metadata": {},
   "outputs": [
    {
     "name": "stdout",
     "output_type": "stream",
     "text": [
      "[[ 1  2  3  4  5  6  7  8  9 10]\n",
      " [11 12 13 14 15 16 17 18 19 20]\n",
      " [21 22 23 24 25 26 27 28 29 30]\n",
      " [31 32 33 34 35 36 37 38 39 40]\n",
      " [41 42 43 44 45 46 47 48 49 50]]\n",
      "\n",
      "[[50 49 48 47 46 45 44 43 42 41]\n",
      " [40 39 38 37 36 35 34 33 32 31]\n",
      " [30 29 28 27 26 25 24 23 22 21]\n",
      " [20 19 18 17 16 15 14 13 12 11]\n",
      " [10  9  8  7  6  5  4  3  2  1]]\n",
      "\n",
      "[[41 42 43 44 45 46 47 48 49 50]\n",
      " [31 32 33 34 35 36 37 38 39 40]\n",
      " [21 22 23 24 25 26 27 28 29 30]\n",
      " [11 12 13 14 15 16 17 18 19 20]\n",
      " [ 1  2  3  4  5  6  7  8  9 10]]\n",
      "\n",
      "[[10  9  8  7  6  5  4  3  2  1]\n",
      " [20 19 18 17 16 15 14 13 12 11]\n",
      " [30 29 28 27 26 25 24 23 22 21]\n",
      " [40 39 38 37 36 35 34 33 32 31]\n",
      " [50 49 48 47 46 45 44 43 42 41]]\n"
     ]
    }
   ],
   "source": [
    "#flip\n",
    "arr6 = np.arange(1,51).reshape(5,10)\n",
    "print(arr6)\n",
    "\n",
    "print(\"\")\n",
    "print(np.flip(arr6))\n",
    "print(\"\")\n",
    "print(np.flipud(arr6)) #flip up and down\n",
    "print(\"\")\n",
    "print(np.fliplr(arr6)) #flip left and right\n"
   ]
  },
  {
   "cell_type": "code",
   "execution_count": 127,
   "metadata": {},
   "outputs": [
    {
     "name": "stdout",
     "output_type": "stream",
     "text": [
      "[[25 41 14]\n",
      " [33 42 21]\n",
      " [43 40 38]\n",
      " [30 31 11]\n",
      " [22 35 14]]\n",
      " \n",
      "[25 41 14 33 42 21 43 40 38 30 31 11 22 35 14]\n",
      " \n",
      "[25 41 14 33 42 21 43 40 38 30 31 11 22 35 14]\n"
     ]
    }
   ],
   "source": [
    "\n",
    "#Flatten - to convert n-d array into 1-D array\n",
    "arr17 = np.random.randint(10,50, size = (5,3))\n",
    "print(arr17)\n",
    "print(\" \")\n",
    "# 2_d array into 1D array\n",
    "print(arr17.flatten())\n",
    "print(\" \")\n",
    "#Ravel() - Flattens N-D array to 1D array\n",
    "print(arr17.ravel())"
   ]
  },
  {
   "cell_type": "code",
   "execution_count": 128,
   "metadata": {},
   "outputs": [
    {
     "name": "stdout",
     "output_type": "stream",
     "text": [
      "6\n"
     ]
    }
   ],
   "source": [
    "#np.argmax() - Returns Index position of Maximum value along axis.\n",
    "print(np.argmax(arr17))"
   ]
  },
  {
   "cell_type": "code",
   "execution_count": null,
   "metadata": {},
   "outputs": [],
   "source": []
  }
 ],
 "metadata": {
  "kernelspec": {
   "display_name": "Python 3",
   "language": "python",
   "name": "python3"
  },
  "language_info": {
   "codemirror_mode": {
    "name": "ipython",
    "version": 3
   },
   "file_extension": ".py",
   "mimetype": "text/x-python",
   "name": "python",
   "nbconvert_exporter": "python",
   "pygments_lexer": "ipython3",
   "version": "3.12.4"
  }
 },
 "nbformat": 4,
 "nbformat_minor": 2
}
